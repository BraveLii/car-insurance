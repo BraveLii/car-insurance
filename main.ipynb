{
 "cells": [
  {
   "cell_type": "code",
   "execution_count": 8,
   "metadata": {
    "collapsed": true
   },
   "outputs": [],
   "source": [
    "# -*- coding:utf8 -*-\n",
    "import os\n",
    "import csv\n",
    "import pandas as pd\n",
    "\n",
    "path_train = \"../data/dm/train.csv\"  # 训练文件\n",
    "path_test = \"../data/dm/test.csv\"  # 测试文件\n",
    "\n",
    "path_test_out = \"model/\"  # 预测结果输出路径为model/xx.csv,有且只能有一个文件并且是CSV格式。"
   ]
  },
  {
   "cell_type": "code",
   "execution_count": 9,
   "metadata": {
    "collapsed": true
   },
   "outputs": [],
   "source": [
    "tempdata = pd.DataFrame()\n",
    "tempdata = pd.read_csv(path_train)"
   ]
  },
  {
   "cell_type": "code",
   "execution_count": 10,
   "metadata": {
    "collapsed": true
   },
   "outputs": [],
   "source": [
    "def read_csv():\n",
    "    \"\"\"\n",
    "    文件读取模块，头文件见columns.\n",
    "    :return: \n",
    "    \"\"\"\n",
    "    # for filename in os.listdir(path_train):\n",
    "    tempdata = pd.read_csv(path_train)\n",
    "    tempdata.columns = [\"TERMINALNO\", \"TIME\", \"TRIP_ID\", \"LONGITUDE\", \"LATITUDE\", \"DIRECTION\", \"HEIGHT\", \"SPEED\",\n",
    "                        \"CALLSTATE\", \"Y\"]\n",
    "    \n",
    "    return tempdata"
   ]
  },
  {
   "cell_type": "code",
   "execution_count": 11,
   "metadata": {},
   "outputs": [],
   "source": [
    "tempdata = read_csv()"
   ]
  },
  {
   "cell_type": "code",
   "execution_count": 14,
   "metadata": {},
   "outputs": [
    {
     "data": {
      "text/html": [
       "<div>\n",
       "<style>\n",
       "    .dataframe thead tr:only-child th {\n",
       "        text-align: right;\n",
       "    }\n",
       "\n",
       "    .dataframe thead th {\n",
       "        text-align: left;\n",
       "    }\n",
       "\n",
       "    .dataframe tbody tr th {\n",
       "        vertical-align: top;\n",
       "    }\n",
       "</style>\n",
       "<table border=\"1\" class=\"dataframe\">\n",
       "  <thead>\n",
       "    <tr style=\"text-align: right;\">\n",
       "      <th></th>\n",
       "      <th>TERMINALNO</th>\n",
       "      <th>TIME</th>\n",
       "      <th>TRIP_ID</th>\n",
       "      <th>LONGITUDE</th>\n",
       "      <th>LATITUDE</th>\n",
       "      <th>DIRECTION</th>\n",
       "      <th>HEIGHT</th>\n",
       "      <th>SPEED</th>\n",
       "      <th>CALLSTATE</th>\n",
       "      <th>Y</th>\n",
       "    </tr>\n",
       "  </thead>\n",
       "  <tbody>\n",
       "    <tr>\n",
       "      <th>0</th>\n",
       "      <td>1</td>\n",
       "      <td>1476923580</td>\n",
       "      <td>1</td>\n",
       "      <td>122.985168</td>\n",
       "      <td>41.103741</td>\n",
       "      <td>12</td>\n",
       "      <td>39.402588</td>\n",
       "      <td>2.15</td>\n",
       "      <td>0</td>\n",
       "      <td>0.0</td>\n",
       "    </tr>\n",
       "    <tr>\n",
       "      <th>1</th>\n",
       "      <td>1</td>\n",
       "      <td>1476923640</td>\n",
       "      <td>1</td>\n",
       "      <td>122.984398</td>\n",
       "      <td>41.104904</td>\n",
       "      <td>24</td>\n",
       "      <td>39.311157</td>\n",
       "      <td>4.11</td>\n",
       "      <td>0</td>\n",
       "      <td>0.0</td>\n",
       "    </tr>\n",
       "    <tr>\n",
       "      <th>2</th>\n",
       "      <td>1</td>\n",
       "      <td>1476923700</td>\n",
       "      <td>1</td>\n",
       "      <td>122.986496</td>\n",
       "      <td>41.106388</td>\n",
       "      <td>74</td>\n",
       "      <td>34.178955</td>\n",
       "      <td>2.99</td>\n",
       "      <td>0</td>\n",
       "      <td>0.0</td>\n",
       "    </tr>\n",
       "    <tr>\n",
       "      <th>3</th>\n",
       "      <td>1</td>\n",
       "      <td>1476923760</td>\n",
       "      <td>1</td>\n",
       "      <td>122.989769</td>\n",
       "      <td>41.106884</td>\n",
       "      <td>115</td>\n",
       "      <td>37.765381</td>\n",
       "      <td>7.59</td>\n",
       "      <td>0</td>\n",
       "      <td>0.0</td>\n",
       "    </tr>\n",
       "    <tr>\n",
       "      <th>4</th>\n",
       "      <td>1</td>\n",
       "      <td>1476923820</td>\n",
       "      <td>1</td>\n",
       "      <td>122.991089</td>\n",
       "      <td>41.105442</td>\n",
       "      <td>151</td>\n",
       "      <td>36.049194</td>\n",
       "      <td>0.24</td>\n",
       "      <td>0</td>\n",
       "      <td>0.0</td>\n",
       "    </tr>\n",
       "  </tbody>\n",
       "</table>\n",
       "</div>"
      ],
      "text/plain": [
       "   TERMINALNO        TIME  TRIP_ID   LONGITUDE   LATITUDE  DIRECTION  \\\n",
       "0           1  1476923580        1  122.985168  41.103741         12   \n",
       "1           1  1476923640        1  122.984398  41.104904         24   \n",
       "2           1  1476923700        1  122.986496  41.106388         74   \n",
       "3           1  1476923760        1  122.989769  41.106884        115   \n",
       "4           1  1476923820        1  122.991089  41.105442        151   \n",
       "\n",
       "      HEIGHT  SPEED  CALLSTATE    Y  \n",
       "0  39.402588   2.15          0  0.0  \n",
       "1  39.311157   4.11          0  0.0  \n",
       "2  34.178955   2.99          0  0.0  \n",
       "3  37.765381   7.59          0  0.0  \n",
       "4  36.049194   0.24          0  0.0  "
      ]
     },
     "execution_count": 14,
     "metadata": {},
     "output_type": "execute_result"
    }
   ],
   "source": [
    "tempdata.head(5)"
   ]
  },
  {
   "cell_type": "code",
   "execution_count": null,
   "metadata": {
    "collapsed": true
   },
   "outputs": [],
   "source": [
    "def process():\n",
    "    \"\"\"\n",
    "    处理过程，在示例中，使用随机方法生成结果，并将结果文件存储到预测结果路径下。\n",
    "    :return: \n",
    "    \"\"\"\n",
    "    import numpy as np\n",
    "\n",
    "    with open(path_test) as lines:\n",
    "        with(open(os.path.join(path_test_out, \"test.csv\"), mode=\"w\")) as outer:\n",
    "            writer = csv.writer(outer)\n",
    "            i = 0\n",
    "            ret_set = set([])\n",
    "            for line in lines:\n",
    "                if i == 0:\n",
    "                    i += 1\n",
    "                    writer.writerow([\"Id\", \"Pred\"])  # 只有两列，一列Id为用户Id，一列Pred为预测结果(请注意大小写)。\n",
    "                    continue\n",
    "                item = line.split(\",\")\n",
    "                if item[0] in ret_set:\n",
    "                    continue\n",
    "                # 此处使用随机值模拟程序预测结果\n",
    "                writer.writerow([item[0], np.random.rand()]) # 随机值\n",
    "                \n",
    "                ret_set.add(item[0])  # 根据赛题要求，ID必须唯一。输出预测值时请注意去重"
   ]
  },
  {
   "cell_type": "code",
   "execution_count": null,
   "metadata": {
    "collapsed": true
   },
   "outputs": [],
   "source": [
    "if __name__ == \"__main__\":\n",
    "    print(\"****************** start **********************\")\n",
    "    # 程序入口\n",
    "    process()"
   ]
  }
 ],
 "metadata": {
  "kernelspec": {
   "display_name": "Python 2",
   "language": "python",
   "name": "python2"
  },
  "language_info": {
   "codemirror_mode": {
    "name": "ipython",
    "version": 2
   },
   "file_extension": ".py",
   "mimetype": "text/x-python",
   "name": "python",
   "nbconvert_exporter": "python",
   "pygments_lexer": "ipython2",
   "version": "2.7.14"
  }
 },
 "nbformat": 4,
 "nbformat_minor": 2
}
